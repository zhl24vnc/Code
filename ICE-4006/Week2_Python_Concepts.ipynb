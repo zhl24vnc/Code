{
 "cells": [
  {
   "cell_type": "markdown",
   "id": "6b931ae8-5998-469d-b0af-07bf3560780c",
   "metadata": {},
   "source": [
    "# Python Exercises Overview\n",
    "\n",
    "Welcome to the Python exercises! This repository contains a series of exercises designed to help you practice your skills with lists, sets, tuples, dictionaries, and basic control flows in Python. Each exercise is contained in its own Python file, and there are accompanying tests provided in `test_exercises.py`.\n",
    "\n",
    "## Exercise Requirements\n",
    "\n",
    "### Exercise 1: Prime Number Check (`ex1_is_prime.py`)\n",
    "**Objective:** Write a function that checks if a given number is prime.  \n",
    "**Function Signature:** `def is_prime(n: int) -> bool`  \n",
    "**Requirements:**\n",
    "- Return `True` if the number is prime, otherwise return `False`.\n",
    "- A prime number is defined as a number greater than 1 that has no positive divisors other than 1 and itself.\n",
    "\n",
    "### Exercise 2: Primes Less Than 100 (`ex2_primes_less_than_100.py`)\n",
    "**Objective:** Create a function that returns a list of all prime numbers less than 100.  \n",
    "**Function Signature:** `def primes_less_than_100() -> List[int]`  \n",
    "**Requirements:**\n",
    "- Use the function from Exercise 1 to determine the prime numbers.\n",
    "- Return a list containing all prime numbers below 100.\n",
    "\n",
    "### Exercise 3: First 100 Primes (`ex3_first_100_primes.py`)\n",
    "**Objective:** Write a function to return the first 100 prime numbers.  \n",
    "**Function Signature:** `def first_100_primes() -> List[int]`  \n",
    "**Requirements:**\n",
    "- Use the function from Exercise 1 to help find the first 100 primes.\n",
    "- Return a list containing the first 100 prime numbers.\n",
    "\n",
    "### Exercise 4: Even Numbers (`ex4_even_numbers.py`)\n",
    "**Objective:** Create a function that returns all even numbers from a given list.  \n",
    "**Function Signature:** `def even_numbers(lst: List[int]) -> List[int]`  \n",
    "**Requirements:**\n",
    "- Iterate through the provided list and return a new list containing only even numbers.\n",
    "\n",
    "### Exercise 5: Unique Elements (`ex5_unique_elements.py`)\n",
    "**Objective:** Write a function that returns the unique elements from a list.  \n",
    "**Function Signature:** `def unique_elements(lst: List[int]) -> List[int]`  \n",
    "**Requirements:**\n",
    "- Use a set to determine the unique elements and return them as a list.\n",
    "\n",
    "### Exercise 6: Word Count (`ex6_word_count.py`)\n",
    "**Objective:** Implement a function that counts the number of words in a given string.  \n",
    "**Function Signature:** `def word_count(s: str) -> int`  \n",
    "**Requirements:**\n",
    "- Consider any whitespace as a delimiter.\n",
    "- Return the total number of words in the string.\n",
    "\n",
    "### Exercise 7: Factorial (`ex7_factorial.py`)\n",
    "**Objective:** Write a function to compute the factorial of a number.  \n",
    "**Function Signature:** `def factorial(n: int) -> int`  \n",
    "**Requirements:**\n",
    "- Use recursion or iteration to calculate the factorial.\n",
    "- Return the factorial of the provided number.\n",
    "\n",
    "### Exercise 8: FizzBuzz (`ex8_fizzbuzz.py`)\n",
    "**Objective:** Create a function that prints numbers from 1 to n, but for multiples of three print \"Fizz\" instead of the number and for the multiples of five print \"Buzz\". For numbers which are multiples of both three and five print \"FizzBuzz\".  \n",
    "**Function Signature:** `def fizzbuzz(n: int) -> List[str]`  \n",
    "**Requirements:**\n",
    "- Return a list of strings for numbers 1 to n, applying the FizzBuzz rules.\n",
    "\n",
    "### Exercise 9: Squares of Evens (`ex9_squares_of_evens.py`)\n",
    "**Objective:** Write a function that returns the squares of even numbers from a given list.  \n",
    "**Function Signature:** `def squares_of_evens(lst: List[int]) -> List[int]`  \n",
    "**Requirements:**\n",
    "- Iterate through the provided list and return a new list containing the squares of even numbers.\n",
    "\n",
    "## Testing Your Code\n",
    "All exercises are accompanied by test cases in the `test_exercises.py` file. You can run the tests using `pytest` to ensure that your implementations are correct.\n",
    "\n",
    "### Running Tests\n",
    "To run the tests, navigate to the project directory and execute:\n",
    "\n",
    "```bash\n",
    "pytest test_exercises.py\n",
    "\n"
   ]
  },
  {
   "cell_type": "markdown",
   "id": "b5d72383-77bb-4599-b550-d2d5eef3ce3c",
   "metadata": {},
   "source": [
    "#### Exercise 1: Check if a number is prime\n",
    "Write a function that checks whether a given number is prime or not. A prime number is a number greater than 1 and divisible only by 1 and itself.\n",
    "Complete the function `is_prime(n)` that returns `True` if the number is prime, otherwise `False`.\n"
   ]
  },
  {
   "cell_type": "code",
   "execution_count": 1,
   "id": "3d155402-7373-46bc-9b17-d7dde742db18",
   "metadata": {},
   "outputs": [
    {
     "name": "stdout",
     "output_type": "stream",
     "text": [
      "True\n",
      "False\n"
     ]
    }
   ],
   "source": [
    "# Exercise 1\n",
    "def is_prime(n):\n",
    "    if not isinstance(n, int):\n",
    "        raise ValueError(\"Input must be an integer\")\n",
    "    \n",
    "    if n <= 1:\n",
    "        return False\n",
    "    if n == 2 or n == 3:\n",
    "        return True\n",
    "    if n % 2 == 0 or n % 3 == 0:\n",
    "        return False\n",
    "    i = 5\n",
    "    while i * i <= n:\n",
    "        if n % i == 0 or n % (i + 2) == 0:\n",
    "            return False\n",
    "        i += 6 \n",
    "\n",
    "\n",
    "    return True\n",
    "\n",
    "# Test your function\n",
    "print(is_prime(7))  # Expected output: True\n",
    "print(is_prime(10))  # Expected output: False\n"
   ]
  },
  {
   "cell_type": "markdown",
   "id": "6c6c3aa5-a19c-4c1b-aec3-bd4d0d673cfa",
   "metadata": {},
   "source": [
    "#### Exercise 2: List all prime numbers less than 100\n",
    "Write a function `primes_less_than_100()` that returns a list of all prime numbers less than 100.\n"
   ]
  },
  {
   "cell_type": "code",
   "execution_count": 30,
   "id": "6b206fef-ad40-4cd0-a45e-6122e04cfbca",
   "metadata": {},
   "outputs": [
    {
     "name": "stdout",
     "output_type": "stream",
     "text": [
      "[2, 3, 5, 7, 11, 13, 17, 19, 23, 29, 31, 37, 41, 43, 47, 53, 59, 61, 67, 71, 73, 79, 83, 89, 97]\n"
     ]
    }
   ],
   "source": [
    "# Exercise 2\n",
    "from typing import List\n",
    "\n",
    "# Reference the previous is_prime function\n",
    "def is_prime(n: int) -> bool:\n",
    "    if n <= 1:\n",
    "        return False\n",
    "    if n == 2 or n == 3:\n",
    "        return True\n",
    "    if n % 2 == 0 or n % 3 == 0:\n",
    "        return False\n",
    "    i = 5\n",
    "    while i * i <= n:\n",
    "        if n % i == 0 or n % (i + 2) == 0:\n",
    "            return False\n",
    "        i += 6\n",
    "    return True\n",
    "\n",
    "def primes_less_than_100() -> List[int]:\n",
    "    primes = []\n",
    "    # Iterate over all numbers between 2 and 99\n",
    "    for num in range(2, 100):\n",
    "        if is_prime(num):\n",
    "            primes.append(num)\n",
    "    return primes\n",
    "\n",
    "\n",
    "# Test your function\n",
    "print(primes_less_than_100())  # Expected output: [2, 3, 5, 7, 11, 13, 17, 19, 23, 29, 31, 37, 41, 43, 47, 53, 59, 61, 67, 71, 73, 79, 83, 89, 97]\n"
   ]
  },
  {
   "cell_type": "markdown",
   "id": "2d2c2362-18bf-4843-8ed6-b104abe3a8b3",
   "metadata": {},
   "source": [
    "#### Exercise 3: List the first 100 prime numbers\n",
    "Write a function `first_100_primes()` that returns a list of the first 100 prime numbers.\n"
   ]
  },
  {
   "cell_type": "code",
   "execution_count": 31,
   "id": "e124faaa-d841-4ac0-996c-da8d01b1edf5",
   "metadata": {},
   "outputs": [
    {
     "name": "stdout",
     "output_type": "stream",
     "text": [
      "[2, 3, 5, 7, 11, 13, 17, 19, 23, 29, 31, 37, 41, 43, 47, 53, 59, 61, 67, 71, 73, 79, 83, 89, 97, 101, 103, 107, 109, 113, 127, 131, 137, 139, 149, 151, 157, 163, 167, 173, 179, 181, 191, 193, 197, 199, 211, 223, 227, 229, 233, 239, 241, 251, 257, 263, 269, 271, 277, 281, 283, 293, 307, 311, 313, 317, 331, 337, 347, 349, 353, 359, 367, 373, 379, 383, 389, 397, 401, 409, 419, 421, 431, 433, 439, 443, 449, 457, 461, 463, 467, 479, 487, 491, 499, 503, 509, 521, 523, 541]\n"
     ]
    }
   ],
   "source": [
    "# Exercise 3\n",
    "from typing import List\n",
    "\n",
    "# Using the previous is_prime function\n",
    "def is_prime(n: int) -> bool:\n",
    "    if n <= 1:\n",
    "        return False\n",
    "    if n == 2 or n == 3:\n",
    "        return True\n",
    "    if n % 2 == 0 or n % 3 == 0:\n",
    "        return False\n",
    "    i = 5\n",
    "    while i * i <= n:\n",
    "        if n % i == 0 or n % (i + 2) == 0:\n",
    "            return False\n",
    "        i += 6\n",
    "    return True\n",
    "\n",
    "def first_100_primes() -> List[int]:\n",
    "    primes = []\n",
    "    num = 2  # Start from 2\n",
    "    \n",
    "    # Keep finding prime numbers until you find 100\n",
    "    while len(primes) < 100:\n",
    "        if is_prime(num):\n",
    "            primes.append(num)\n",
    "        num += 1\n",
    "    return primes\n",
    "\n",
    "\n",
    "# Test your function\n",
    "print(first_100_primes())  # Expected output: [2, 3, 5, 7, 11, ...] (100 prime numbers)\n"
   ]
  },
  {
   "cell_type": "markdown",
   "id": "1f82b8e6-2bbc-49bb-bdca-9c5756fd25b5",
   "metadata": {},
   "source": [
    "#### Exercise 4: List operations\n",
    "Given a list of numbers, write a function `even_numbers(lst)` that returns a list containing only the even numbers.\n"
   ]
  },
  {
   "cell_type": "code",
   "execution_count": 32,
   "id": "f3d8260b-20fc-4d51-9598-f2b418684056",
   "metadata": {},
   "outputs": [
    {
     "name": "stdout",
     "output_type": "stream",
     "text": [
      "[2, 4, 6]\n"
     ]
    }
   ],
   "source": [
    "# Exercise 4\n",
    "from typing import List\n",
    "\n",
    "def even_numbers(lst: List[int]) -> List[int]:\n",
    "    evens = []\n",
    "    # Iterate through each number in the list\n",
    "    for num in lst:\n",
    "        if num % 2 == 0:\n",
    "            evens.append(num)  # If it is an even number, add it to the evens list\n",
    "    return evens\n",
    "\n",
    "# Test your function\n",
    "print(even_numbers([1, 2, 3, 4, 5, 6]))  # Expected output: [2, 4, 6]\n"
   ]
  },
  {
   "cell_type": "markdown",
   "id": "0a70fc12-3694-4722-9e68-de359b7362fe",
   "metadata": {},
   "source": [
    "#### Exercise 5: Sets and Tuples\n",
    "- Write a function `unique_elements(lst)` that returns the unique elements in a list as a set.\n",
    "- Write a function `tuple_sum(tup)` that takes a tuple of numbers and returns their sum.\n"
   ]
  },
  {
   "cell_type": "code",
   "execution_count": 33,
   "id": "d0589ddd-543d-4897-8807-cecc6010b542",
   "metadata": {},
   "outputs": [
    {
     "name": "stdout",
     "output_type": "stream",
     "text": [
      "{1, 2, 3, 4, 5}\n",
      "6\n"
     ]
    }
   ],
   "source": [
    "# Exercise 5a: Sets\n",
    "from typing import List, Set\n",
    "\n",
    "def unique_elements(lst: List[int]) -> Set[int]:\n",
    "   # Use set to remove duplicate elements and return them directly\n",
    "    return set(lst)\n",
    "\n",
    "# Test your function\n",
    "print(unique_elements([1, 2, 2, 3, 4, 4, 5]))  # Expected output: {1, 2, 3, 4, 5}\n",
    "\n",
    "# Exercise 5b: Tuples\n",
    "from typing import Tuple\n",
    "\n",
    "def tuple_sum(tup: Tuple[int]) -> int:\n",
    "   # Use the sum() function to find the sum\n",
    "    return sum(tup)\n",
    "\n",
    "# Test your function\n",
    "print(tuple_sum((1, 2, 3)))  # Expected output: 6\n"
   ]
  },
  {
   "cell_type": "markdown",
   "id": "811967ae-1b83-40bb-805a-49ed107f86fd",
   "metadata": {},
   "source": [
    "#### Exercise 6: Dictionary operations\n",
    "Write a function `word_count(s)` that takes a string `s` and returns a dictionary with the count of each word in the string.\n"
   ]
  },
  {
   "cell_type": "code",
   "execution_count": 35,
   "id": "44be85b1-ad3c-4f92-a6c5-c4fc0e1e8551",
   "metadata": {},
   "outputs": [
    {
     "name": "stdout",
     "output_type": "stream",
     "text": [
      "{'this': 2, 'is': 2, 'a': 2, 'test': 2, 'only': 1}\n"
     ]
    }
   ],
   "source": [
    "# Exercise 6\n",
    "def word_count(s: str) -> dict:\n",
    "    # Split the string into a list of words\n",
    "    words = s.split()\n",
    "    word_count_dict = {}\n",
    "    \n",
    "    # Iterate through each word\n",
    "    for word in words:\n",
    "        # If the word is already in the dictionary, add 1 to the count\n",
    "        if word in word_count_dict:\n",
    "            word_count_dict[word] += 1\n",
    "        # If the word is not in the dictionary, add it and set the count to 1\n",
    "        else:\n",
    "            word_count_dict[word] = 1\n",
    "    \n",
    "    return word_count_dict\n",
    "\n",
    "# Test your function\n",
    "print(word_count(\"this is a test this is only a test\"))  \n",
    "# Expected output: {'this': 2, 'is': 2, 'a': 2, 'test': 2, 'only': 1}\n"
   ]
  },
  {
   "cell_type": "markdown",
   "id": "d4194192-1412-420a-a141-d7b09502ab90",
   "metadata": {},
   "source": [
    "#### Exercise 7: Control flow with for/while loops\n",
    "Write a function `factorial(n)` that calculates the factorial of a number `n` using a loop (not recursion).\n"
   ]
  },
  {
   "cell_type": "code",
   "execution_count": 36,
   "id": "0b5cfdad-233b-447e-833c-f80954a9d6b6",
   "metadata": {},
   "outputs": [
    {
     "name": "stdout",
     "output_type": "stream",
     "text": [
      "120\n"
     ]
    }
   ],
   "source": [
    "# Exercise 7\n",
    "def factorial(n: int) -> int:\n",
    "\n",
    "    if n == 0 or n == 1:\n",
    "        return 1\n",
    "    result = 1\n",
    "    while n > 1:\n",
    "        result *= n  \n",
    "        n -= 1  \n",
    "    \n",
    "    return result\n",
    "\n",
    "\n",
    "# Test your function\n",
    "print(factorial(5))  # Expected output: 120\n"
   ]
  },
  {
   "cell_type": "markdown",
   "id": "251ba6a5-07f3-4aa1-8b15-4434f8878af7",
   "metadata": {},
   "source": [
    "#### Exercise 8: FizzBuzz\n",
    "Write a function `fizzbuzz(n)` that prints numbers from 1 to `n`. For multiples of 3, print \"Fizz\" instead of the number, for multiples of 5, print \"Buzz\". For numbers that are multiples of both 3 and 5, print \"FizzBuzz\".\n"
   ]
  },
  {
   "cell_type": "code",
   "execution_count": 37,
   "id": "6499e13c-a3d1-46ae-88d8-2beff3775212",
   "metadata": {},
   "outputs": [
    {
     "name": "stdout",
     "output_type": "stream",
     "text": [
      "1\n",
      "2\n",
      "Fizz\n",
      "4\n",
      "Buzz\n",
      "Fizz\n",
      "7\n",
      "8\n",
      "Fizz\n",
      "Buzz\n",
      "11\n",
      "Fizz\n",
      "13\n",
      "14\n",
      "FizzBuzz\n"
     ]
    }
   ],
   "source": [
    "# Exercise 8\n",
    "def fizzbuzz(n: int) -> None:\n",
    "    for i in range(1, n + 1):\n",
    "        \n",
    "        if i % 3 == 0 and i % 5 == 0:\n",
    "            print(\"FizzBuzz\")\n",
    "        elif i % 3 == 0:\n",
    "            print(\"Fizz\")\n",
    "        elif i % 5 == 0:\n",
    "            print(\"Buzz\")\n",
    "        else:\n",
    "            print(i)\n",
    "\n",
    "\n",
    "# Test your function\n",
    "fizzbuzz(15)\n",
    "# Expected output: \n",
    "# 1\n",
    "# 2\n",
    "# Fizz\n",
    "# 4\n",
    "# Buzz\n",
    "# Fizz\n",
    "# 7\n",
    "# 8\n",
    "# Fizz\n",
    "# Buzz\n",
    "# 11\n",
    "# Fizz\n",
    "# 13\n",
    "# 14\n",
    "# FizzBuzz\n"
   ]
  },
  {
   "cell_type": "markdown",
   "id": "fed88586-344b-44f9-9bdf-3807d1fcba9a",
   "metadata": {},
   "source": [
    "#### Exercise 9: List Comprehension\n",
    "Write a function `squares_of_evens(lst)` that takes a list of numbers and returns a list of squares of only the even numbers using list comprehension.\n"
   ]
  },
  {
   "cell_type": "code",
   "execution_count": 38,
   "id": "b1f67136-c0b0-4217-a8fc-6cb11cf6019d",
   "metadata": {},
   "outputs": [
    {
     "name": "stdout",
     "output_type": "stream",
     "text": [
      "[4, 16]\n"
     ]
    }
   ],
   "source": [
    "# Exercise 9\n",
    "def squares_of_evens(lst: list[int]) -> list[int]:\n",
    "    return [x ** 2 for x in lst if x % 2 == 0]\n",
    "\n",
    "\n",
    "# Test your function\n",
    "print(squares_of_evens([1, 2, 3, 4, 5]))  # Expected output: [4, 16]\n"
   ]
  },
  {
   "cell_type": "markdown",
   "id": "11942e55-e201-4b1d-b4c7-273ba877c465",
   "metadata": {},
   "source": [
    "### Keep practicing to improve your Python skills!\n"
   ]
  },
  {
   "cell_type": "code",
   "execution_count": null,
   "id": "779f7464-cb18-4778-8c17-0a08f20ff5f1",
   "metadata": {},
   "outputs": [],
   "source": []
  }
 ],
 "metadata": {
  "kernelspec": {
   "display_name": "Python 3",
   "language": "python",
   "name": "python3"
  },
  "language_info": {
   "codemirror_mode": {
    "name": "ipython",
    "version": 3
   },
   "file_extension": ".py",
   "mimetype": "text/x-python",
   "name": "python",
   "nbconvert_exporter": "python",
   "pygments_lexer": "ipython3",
   "version": "3.12.5"
  }
 },
 "nbformat": 4,
 "nbformat_minor": 5
}
